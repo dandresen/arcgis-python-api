{
 "cells": [
  {
   "cell_type": "markdown",
   "metadata": {},
   "source": [
    "## Workflow to update a TX county data layer with the latest COVID-19 cases\n",
    "\n",
    "Still a work in progress..."
   ]
  },
  {
   "cell_type": "code",
   "execution_count": null,
   "metadata": {},
   "outputs": [],
   "source": [
    "from urllib.request import urlopen\n",
    "from bs4 import BeautifulSoup\n",
    "import ssl\n",
    "import geopandas as gpd\n",
    "import pandas as pd\n",
    "import numpy as np\n",
    "from arcgis.gis import GIS"
   ]
  },
  {
   "cell_type": "code",
   "execution_count": null,
   "metadata": {},
   "outputs": [],
   "source": [
    "# scrape Texas Department of State Health Services\n",
    "ssl._create_default_https_context = ssl._create_unverified_context # avoid cert error \n",
    "url = 'https://www.dshs.state.tx.us/news/updates.shtm#coronavirus'\n",
    "html = urlopen(url)\n",
    "soup = BeautifulSoup(html, 'lxml')"
   ]
  },
  {
   "cell_type": "code",
   "execution_count": null,
   "metadata": {},
   "outputs": [],
   "source": [
    "# get count of latest COVID-19\n",
    "list_for_df = []\n",
    "for tr in soup.find_all('tr'):\n",
    "    td = tr.find_all('td')\n",
    "    row = [tr.text for tr in td]\n",
    "    list_for_df.append(row)\n",
    "\n",
    "# create df with counts, use filter() to remove empty list\n",
    "count_df = pd.DataFrame(list(filter(None,list_for_df)), columns=['CNTY_NM', 'COUNT'])"
   ]
  },
  {
   "cell_type": "code",
   "execution_count": null,
   "metadata": {},
   "outputs": [],
   "source": [
    "# read in shapefile using GeoPandas\n",
    "county_gdf_raw = gpd.GeoDataFrame(gpd.read_file(r'data/origs/Texas_County_Boundaries.shp'))\n",
    "county_gdf = county_gdf_raw[['OBJECTID','CNTY_NM','geometry']]\n",
    "county_gdf.head()"
   ]
  },
  {
   "cell_type": "code",
   "execution_count": null,
   "metadata": {},
   "outputs": [],
   "source": [
    "# merge count_df and county_gdf to add COVID19 count to geometry\n",
    "merged_df = county_gdf.merge(count_df, left_on='CNTY_NM', right_on='CNTY_NM', how='left')\n",
    "# convert \"COUNT\" field to int\n",
    "merged_df[\"COUNT\"] = merged_df.COUNT.fillna(0)\n",
    "merged_df[\"COUNT\"] = merged_df.COUNT.astype(np.int64)"
   ]
  },
  {
   "cell_type": "code",
   "execution_count": null,
   "metadata": {},
   "outputs": [],
   "source": [
    "# make sure projection looks good\n",
    "%matplotlib inline\n",
    "merged_df.plot()"
   ]
  },
  {
   "cell_type": "code",
   "execution_count": null,
   "metadata": {},
   "outputs": [],
   "source": [
    "from datetime import date\n",
    "today = date.today()"
   ]
  },
  {
   "cell_type": "code",
   "execution_count": null,
   "metadata": {},
   "outputs": [],
   "source": [
    "# write to file\n",
    "# dosen't create a .prj file, so used the one from the original data\n",
    "merged_df.to_file('data/tx_counties_covid19.shp')\n",
    "\n",
    "# write logic to automate moving of .prj file and zipping "
   ]
  },
  {
   "cell_type": "code",
   "execution_count": null,
   "metadata": {},
   "outputs": [],
   "source": [
    "# values for GIS() from a file \n",
    "f = open('agol.csv')\n",
    "username = str(f.readline())[:-1]\n",
    "password = str(f.readline())[:-1]\n",
    "gis = GIS(\"https://www.arcgis.com\", username, password)"
   ]
  },
  {
   "cell_type": "code",
   "execution_count": null,
   "metadata": {},
   "outputs": [],
   "source": [
    "# here is where we start to add data to AGOL\n",
    "\n",
    "# create properties\n",
    "tx_county_covid19_properties = {\n",
    "    'title': 'TX Counties COVID19 Count',\n",
    "    'tags': 'tx, open data', 'COVID-19', 'COVID', 'TEXAS'\n",
    "    'type': 'Shapefile'\n",
    "}\n",
    "\n",
    "# get the file location\n",
    "data_file_location = r'data/tx_counties_covid19.zip'"
   ]
  },
  {
   "cell_type": "code",
   "execution_count": null,
   "metadata": {},
   "outputs": [],
   "source": [
    "# add the data to agol\n",
    "tx_county_covid19_file = gis.content.add(tx_county_covid19_properties, data=data_file_location)"
   ]
  },
  {
   "cell_type": "code",
   "execution_count": null,
   "metadata": {},
   "outputs": [],
   "source": [
    "# call publish method, which returns another arcgis.gis.Item instance for the feature layer\n",
    "tx_county_covid19_feature_layer_item = tx_county_covid19_file.publish()\n"
   ]
  },
  {
   "cell_type": "markdown",
   "metadata": {},
   "source": [
    "#### Info for layer\n",
    "DSHS provides a table of COVID-19 cases by county. This resource maps those counts.\n",
    "\n",
    "This is a simple spatial reference tracking to the COVID-19 cases in Texas. The data source is the Texas Department of State Health Services. DSHS updates their counts everyday at noon (Central). Expect this layer to be updated with the latest counts not long after DSHS release their numbers.\n",
    "\n",
    "Data source: https://www.dshs.state.tx.us/news/updates.shtm#coronavirus\n",
    "\n",
    "Want to see how this was created? https://github.com/dandresen/arcgis-python-api/blob/master/COVID-19%20TX%20Counties.ipynb\n",
    "\n",
    "This is a NON-OFFICIAL resource. The author does not assume any responsibly for errors in the data. The only data source used for COVID-19 counts is from the Texas Department of State Health Services website. Please visit their site to understand more about how the data was collected.  "
   ]
  },
  {
   "cell_type": "code",
   "execution_count": null,
   "metadata": {},
   "outputs": [],
   "source": [
    "######################################################################"
   ]
  },
  {
   "cell_type": "markdown",
   "metadata": {},
   "source": [
    "### The above workflow got the data on AGOL. I've just been doing the rest (symbols, info for layer, etc) in the UI.\n",
    "\n",
    "### I'm still thinking through how to update this daily... that work will be below"
   ]
  },
  {
   "cell_type": "code",
   "execution_count": null,
   "metadata": {},
   "outputs": [],
   "source": [
    "# The shapefile can be updated, but the Feature Service cannot. Maybe just delete all of the items \n",
    "# and republish everyday?"
   ]
  },
  {
   "cell_type": "code",
   "execution_count": null,
   "metadata": {},
   "outputs": [],
   "source": []
  },
  {
   "cell_type": "code",
   "execution_count": null,
   "metadata": {},
   "outputs": [],
   "source": []
  },
  {
   "cell_type": "code",
   "execution_count": null,
   "metadata": {},
   "outputs": [],
   "source": []
  }
 ],
 "metadata": {
  "kernelspec": {
   "display_name": "Python 3",
   "language": "python",
   "name": "python3"
  },
  "language_info": {
   "codemirror_mode": {
    "name": "ipython",
    "version": 3
   },
   "file_extension": ".py",
   "mimetype": "text/x-python",
   "name": "python",
   "nbconvert_exporter": "python",
   "pygments_lexer": "ipython3",
   "version": "3.6.8"
  }
 },
 "nbformat": 4,
 "nbformat_minor": 2
}
