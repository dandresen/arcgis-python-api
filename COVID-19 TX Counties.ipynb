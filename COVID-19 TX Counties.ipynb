{
 "cells": [
  {
   "cell_type": "markdown",
   "metadata": {},
   "source": [
    "## Workflow to update a TX County data layer (shapefile) with the latest COVID-19 cases and load it to ArcGIS Online\n",
    "4-23-20: It looks like TX DSHS updated how they are reporting thier data. Keeping this workflow here for reference." 
   ]
  },
  {
   "cell_type": "code",
   "execution_count": null,
   "metadata": {},
   "outputs": [],
   "source": [
    "from urllib.request import urlopen\n",
    "from bs4 import BeautifulSoup\n",
    "import ssl\n",
    "import geopandas as gpd\n",
    "import pandas as pd\n",
    "import numpy as np\n",
    "from arcgis.gis import GIS"
   ]
  },
  {
   "cell_type": "code",
   "execution_count": null,
   "metadata": {},
   "outputs": [],
   "source": [
    "# scrape Texas Department of State Health Services\n",
    "ssl._create_default_https_context = ssl._create_unverified_context # avoid cert error \n",
    "url = 'https://www.dshs.state.tx.us/news/updates.shtm#coronavirus'\n",
    "html = urlopen(url)\n",
    "soup = BeautifulSoup(html, 'lxml')"
   ]
  },
  {
   "cell_type": "code",
   "execution_count": null,
   "metadata": {},
   "outputs": [],
   "source": [
    "# get count of latest COVID-19\n",
    "list_for_df = []\n",
    "for tr in soup.find_all('tr'):\n",
    "    td = tr.find_all('td')\n",
    "    row = [tr.text for tr in td]\n",
    "    list_for_df.append(row)\n",
    "\n",
    "# create df with counts, use filter() to remove empty list\n",
    "count_df = pd.DataFrame(list(filter(None,list_for_df)), columns=['CNTY_NM', 'COUNT'])"
   ]
  },
  {
   "cell_type": "code",
   "execution_count": null,
   "metadata": {},
   "outputs": [],
   "source": [
    "# read in shapefile using GeoPandas\n",
    "county_gdf_raw = gpd.GeoDataFrame(gpd.read_file(r'data/origs/Texas_County_Boundaries.shp'))\n",
    "county_gdf = county_gdf_raw[['OBJECTID','CNTY_NM','geometry']]\n",
    "county_gdf.head()"
   ]
  },
  {
   "cell_type": "code",
   "execution_count": null,
   "metadata": {},
   "outputs": [],
   "source": [
    "# merge count_df and county_gdf to add COVID19 count to geometry\n",
    "merged_df = county_gdf.merge(count_df, left_on='CNTY_NM', right_on='CNTY_NM', how='left')\n",
    "# convert \"COUNT\" field to int\n",
    "merged_df[\"COUNT\"] = merged_df.COUNT.fillna(0)\n",
    "merged_df[\"COUNT\"] = merged_df.COUNT.astype(np.int64)"
   ]
  },
  {
   "cell_type": "code",
   "execution_count": null,
   "metadata": {},
   "outputs": [],
   "source": [
    "# make sure projection looks good\n",
    "%matplotlib inline\n",
    "merged_df.plot()"
   ]
  },
  {
   "cell_type": "code",
   "execution_count": null,
   "metadata": {},
   "outputs": [],
   "source": [
    "import shutil\n",
    "from datetime import date\n",
    "today = date.today()"
   ]
  },
  {
   "cell_type": "code",
   "execution_count": null,
   "metadata": {},
   "outputs": [],
   "source": [
    "# write to file\n",
    "merged_df.to_file('data/import/tx_counties_covid19_{}.shp'.format(today))\n",
    "\n",
    "# dosen't create a .prj file, so use the one from the original data\n",
    "shutil.copyfile('data/origs/Texas_County_Boundaries.prj', 'data/import/tx_counties_covid19_{}.prj'.format(today))\n"
   ]
  },
  {
   "cell_type": "code",
   "execution_count": null,
   "metadata": {},
   "outputs": [],
   "source": [
    "# zip shapefile\n",
    "shutil.make_archive('data/import/tx_counties_covid19_{}'.format(today), 'zip', 'data/import')"
   ]
  },
  {
   "cell_type": "code",
   "execution_count": null,
   "metadata": {},
   "outputs": [],
   "source": [
    "# values for GIS() from a file \n",
    "f = open('agol.csv')\n",
    "username = str(f.readline())[:-1]\n",
    "password = str(f.readline())[:-1]\n",
    "gis = GIS(\"https://www.arcgis.com\", username, password)"
   ]
  },
  {
   "cell_type": "code",
   "execution_count": null,
   "metadata": {},
   "outputs": [],
   "source": [
    "# get the old id and delete it\n",
    "old_shp_id = gis.content.get('40000379f7fc442aa53499ff4c4d2db6')\n",
    "old_shp_id.delete()"
   ]
  },
  {
   "cell_type": "code",
   "execution_count": null,
   "metadata": {},
   "outputs": [],
   "source": [
    "# add data to AGOL\n",
    "\n",
    "# create properties\n",
    "tx_county_covid19_properties = {\n",
    "    'title': 'Shapefile_TX_Counties_COVID19_Count_{}'.format(today),\n",
    "    'snippet': 'TX DSHS provides a table of COVID-19 cases by county. This resource puts those data in a spatial format',\n",
    "    'description': '''This is a simple spatial reference tracking to the COVID-19 cases in Texas. The data source is the Texas Department of State Health Services. DSHS updates their counts everyday at noon (Central). Expect this layer to be updated with the latest counts not long after DSHS release their numbers.\\n\n",
    "\n",
    "\n",
    "Data source: https://www.dshs.state.tx.us/news/updates.shtm#coronavirus \\n\n",
    "\n",
    "Want to see how this was created? https://github.com/dandresen/arcgis-python-api/blob/master/COVID-19%20TX%20Counties.ipynb''',\n",
    "    'tags': 'tx, open data, COVID-19, COVID, TEXAS, shapefile',\n",
    "    'type': 'Shapefile',\n",
    "    'licenseInfo': '''This is a NON-OFFICIAL resource. The author does not assume any responsibly for errors in the data. The only data source used for COVID-19 counts is from the Texas Department of State Health Services website. Please visit their site to understand more about how the data was collected.'''\n",
    "}\n",
    "\n",
    "# get the file location and add to AGOL \n",
    "data_file_location = r'data/import/tx_counties_covid19_{}.zip'.format(today)\n",
    "tx_county_covid19_file = gis.content.add(tx_county_covid19_properties, data=data_file_location)\n",
    "tx_county_covid19_file.share(everyone=True)"
   ]
  }
 ],
 "metadata": {
  "kernelspec": {
   "display_name": "Python 3",
   "language": "python",
   "name": "python3"
  },
  "language_info": {
   "codemirror_mode": {
    "name": "ipython",
    "version": 3
   },
   "file_extension": ".py",
   "mimetype": "text/x-python",
   "name": "python",
   "nbconvert_exporter": "python",
   "pygments_lexer": "ipython3",
   "version": "3.6.8"
  }
 },
 "nbformat": 4,
 "nbformat_minor": 2
}
