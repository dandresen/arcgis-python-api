{
 "cells": [
  {
   "cell_type": "markdown",
   "metadata": {},
   "source": [
    "## Workflow to update a TX County data layer (shapefile) with the latest COVID-19 cases and load it to ArcGIS Online\n",
    "3-23-20: It looks like TX DSHS updated how they are reporting thier data. Use this link to access the layer: https://services5.arcgis.com/ACaLB9ifngzawspq/ArcGIS/rest/services/COVID19County_ViewLayer/FeatureServer \n",
    "\n",
    "This workflow will take data from the above layer, turn it into a shapefile, and post it AGOL for everyone."
   ]
  },
  {
   "cell_type": "code",
   "execution_count": null,
   "metadata": {},
   "outputs": [],
   "source": [
    "import geopandas as gpd\n",
    "import pandas as pd\n",
    "import numpy as np\n",
    "from arcgis.gis import GIS"
   ]
  },
  {
   "cell_type": "code",
   "execution_count": null,
   "metadata": {},
   "outputs": [],
   "source": [
    "'''TX DSHS quit putting their data on a table in the link below. Instead, they are using AGOL.\n",
    "Im keep this here as a reference.'''\n",
    "\n",
    "# from urllib.request import urlopen\n",
    "# from bs4 import BeautifulSoup\n",
    "# import ssl\n",
    "\n",
    "# # scrape Texas Department of State Health Services\n",
    "# ssl._create_default_https_context = ssl._create_unverified_context # avoid cert error \n",
    "# url = 'https://www.dshs.state.tx.us/news/updates.shtm#coronavirus'\n",
    "# html = urlopen(url)\n",
    "# soup = BeautifulSoup(html, 'lxml')\n",
    "\n",
    "# # get count of latest COVID-19\n",
    "# list_for_df = []\n",
    "# for tr in soup.find_all('tr'):\n",
    "#     td = tr.find_all('td')\n",
    "#     row = [tr.text for tr in td]\n",
    "#     list_for_df.append(row)\n",
    "\n",
    "# # create df with counts, use filter() to remove empty list\n",
    "# count_df = pd.DataFrame(list(filter(None,list_for_df)), columns=['CNTY_NM', 'COUNT'])"
   ]
  },
  {
   "cell_type": "code",
   "execution_count": null,
   "metadata": {},
   "outputs": [],
   "source": [
    "# values for GIS() from a file \n",
    "f = open('agol.csv')\n",
    "username = str(f.readline())[:-1]\n",
    "password = str(f.readline())[:-1]\n",
    "gis = GIS(\"https://www.arcgis.com\", username, password)"
   ]
  },
  {
   "cell_type": "code",
   "execution_count": null,
   "metadata": {},
   "outputs": [],
   "source": [
    "# TX DSHS COVID-19 layer\n",
    "covid_19_item_id = gis.content.get('bc83058386d2434ca8cf90b26dc6b580')\n",
    "covid_19_item_id"
   ]
  },
  {
   "cell_type": "code",
   "execution_count": null,
   "metadata": {},
   "outputs": [],
   "source": [
    "# grab the covid-19 data layer and turn it into a df\n",
    "covid_19_item_df = pd.DataFrame.spatial.from_layer(covid_19_item_id.layers[0])\n",
    "del covid_19_item_df['LastUpdate'] # remove this b/c shapefiles don't like it\n",
    "covid_19_item_df.info()"
   ]
  },
  {
   "cell_type": "code",
   "execution_count": null,
   "metadata": {},
   "outputs": [],
   "source": [
    "# see if the sum is valid\n",
    "covid_19_item_df.Count_.sum()"
   ]
  },
  {
   "cell_type": "code",
   "execution_count": null,
   "metadata": {},
   "outputs": [],
   "source": [
    "# read in a county shapefile using GeoPandas\n",
    "county_gdf_raw = gpd.GeoDataFrame(gpd.read_file(r'data/origs/Texas_County_Boundaries.shp'))\n",
    "county_gdf = county_gdf_raw[['OBJECTID','CNTY_NM','geometry']]\n",
    "county_gdf.head()"
   ]
  },
  {
   "cell_type": "code",
   "execution_count": null,
   "metadata": {},
   "outputs": [],
   "source": [
    "# merge df's to add COVID19 count to geometry\n",
    "merged_df = county_gdf.merge(covid_19_item_df, left_on='CNTY_NM', right_on='County', how='left')"
   ]
  },
  {
   "cell_type": "code",
   "execution_count": null,
   "metadata": {},
   "outputs": [],
   "source": [
    "import shutil\n",
    "import os\n",
    "from datetime import date"
   ]
  },
  {
   "cell_type": "code",
   "execution_count": null,
   "metadata": {},
   "outputs": [],
   "source": [
    "today = date.today()\n",
    "path = os.path.join('data', 'import', '{}'.format(today))\n",
    "if os.path.isdir(path) != True:\n",
    "    os.mkdir(path)"
   ]
  },
  {
   "cell_type": "code",
   "execution_count": null,
   "metadata": {},
   "outputs": [],
   "source": [
    "# write to file\n",
    "# merged_df.to_file('data/import/{}/tx_counties_covid19_{}.shp'.format(today,today))\n",
    "merged_df.to_file(os.path.join(path, 'tx_counties_covid19_{}.shp'.format(today)))\n",
    "\n",
    "# dosen't create a .prj file, so use the one from the original data\n",
    "shutil.copyfile(os.path.join('data', 'origs', 'Texas_County_Boundaries.prj'), os.path.join(path,'tx_counties_covid19_{}.prj'.format(today)))\n"
   ]
  },
  {
   "cell_type": "code",
   "execution_count": null,
   "metadata": {},
   "outputs": [],
   "source": [
    "# zip shapefile\n",
    "shutil.make_archive(os.path.join(path, 'tx_counties_covid19_{}'.format(today)), 'zip', path)"
   ]
  },
  {
   "cell_type": "code",
   "execution_count": null,
   "metadata": {},
   "outputs": [],
   "source": [
    "# get the old published id and delete it (use the item id from the pubished service)\n",
    "old_pub_shp_id = gis.content.get('5078b7e446c14b458e42027b587dd865')\n",
    "old_pub_shp_id.delete()"
   ]
  },
  {
   "cell_type": "code",
   "execution_count": null,
   "metadata": {},
   "outputs": [],
   "source": [
    "data_file_location = os.path.join(path, 'tx_counties_covid19_{}.zip'.format(today))"
   ]
  },
  {
   "cell_type": "code",
   "execution_count": null,
   "metadata": {},
   "outputs": [],
   "source": [
    "# add data to AGOL\n",
    "\n",
    "# create properties\n",
    "tx_county_covid19_properties = {\n",
    "    'title': 'Shapefile_TX_Counties_COVID19_Count_{}'.format(today),\n",
    "    'snippet': 'TX DSHS provides data of COVID-19 cases by county. Here is a shapefile of that service. https://txdshs.maps.arcgis.com/apps/opsdashboard/index.html#/ed483ecd702b4298ab01e8b9cafc8b83 ',\n",
    "    'description': '''This is a shapefile of TX COVID-19 data. The data source is the Texas Department of State Health Services. DSHS updates their counts everyday at noon (Central). Expect this layer to be updated with the latest counts not long after DSHS release their numbers.\\n\n",
    "\n",
    "\n",
    "Data source: Source: https://services5.arcgis.com/ACaLB9ifngzawspq/ArcGIS/rest/services/COVID19County_ViewLayer/FeatureServer \\n\n",
    "\n",
    "Want to see how this was created? https://github.com/dandresen/arcgis-python-api/blob/master/COVID-19%20TX%20Counties.ipynb''',\n",
    "    'tags': 'tx, open data, COVID-19, COVID, TEXAS, shapefile',\n",
    "    'type': 'Shapefile',\n",
    "    'licenseInfo': '''This is a NON-OFFICIAL resource. The author does not assume any responsibility for errors in the data. The only data source used for COVID-19 counts is from the Texas Department of State Health Services website. Please visit their site to understand more about how the data was collected.'''\n",
    "}\n",
    "\n",
    "# get the file location and add to AGOL \n",
    "tx_county_covid19_file = gis.content.add(tx_county_covid19_properties, data=data_file_location)\n",
    "tx_county_covid19_file.share(everyone=True)"
   ]
  },
  {
   "cell_type": "code",
   "execution_count": null,
   "metadata": {},
   "outputs": [],
   "source": [
    "# publish the shapefile \n",
    "tx_county_covid19_publish = tx_county_covid19_file.publish()\n",
    "tx_county_covid19_publish.share(everyone=True)"
   ]
  }
 ],
 "metadata": {
  "kernelspec": {
   "display_name": "Python 3",
   "language": "python",
   "name": "python3"
  },
  "language_info": {
   "codemirror_mode": {
    "name": "ipython",
    "version": 3
   },
   "file_extension": ".py",
   "mimetype": "text/x-python",
   "name": "python",
   "nbconvert_exporter": "python",
   "pygments_lexer": "ipython3",
   "version": "3.6.9"
  }
 },
 "nbformat": 4,
 "nbformat_minor": 2
}
