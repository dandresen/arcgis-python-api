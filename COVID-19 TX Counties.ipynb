{
 "cells": [
  {
   "cell_type": "markdown",
   "metadata": {},
   "source": [
    "## Workflow to update a TX county data layer with the latest COVID-19 cases\n",
    "Still a work in progress..."
   ]
  },
  {
   "cell_type": "code",
   "execution_count": 120,
   "metadata": {},
   "outputs": [],
   "source": [
    "from urllib.request import urlopen\n",
    "from bs4 import BeautifulSoup\n",
    "import ssl\n",
    "import geopandas as gpd\n",
    "import pandas as pd\n",
    "import numpy as np\n",
    "from arcgis.gis import GIS\n",
    "from arcgis.features import FeatureLayer"
   ]
  },
  {
   "cell_type": "code",
   "execution_count": 121,
   "metadata": {},
   "outputs": [],
   "source": [
    "# scrape Texas Department of State Health Services\n",
    "ssl._create_default_https_context = ssl._create_unverified_context # avoid cert error \n",
    "url = 'https://www.dshs.state.tx.us/news/updates.shtm#coronavirus'\n",
    "html = urlopen(url)\n",
    "soup = BeautifulSoup(html, 'lxml')"
   ]
  },
  {
   "cell_type": "code",
   "execution_count": 122,
   "metadata": {},
   "outputs": [],
   "source": [
    "# get count of latest COVID-19\n",
    "list_for_df = []\n",
    "for tr in soup.find_all('tr'):\n",
    "    td = tr.find_all('td')\n",
    "    row = [tr.text for tr in td]\n",
    "    list_for_df.append(row)\n",
    "\n",
    "# create df with counts, use filter() to remove empty list\n",
    "count_df = pd.DataFrame(list(filter(None,list_for_df)), columns=['CNTY_NM', 'COUNT'])"
   ]
  },
  {
   "cell_type": "code",
   "execution_count": 124,
   "metadata": {},
   "outputs": [
    {
     "data": {
      "text/html": [
       "<div>\n",
       "<style scoped>\n",
       "    .dataframe tbody tr th:only-of-type {\n",
       "        vertical-align: middle;\n",
       "    }\n",
       "\n",
       "    .dataframe tbody tr th {\n",
       "        vertical-align: top;\n",
       "    }\n",
       "\n",
       "    .dataframe thead th {\n",
       "        text-align: right;\n",
       "    }\n",
       "</style>\n",
       "<table border=\"1\" class=\"dataframe\">\n",
       "  <thead>\n",
       "    <tr style=\"text-align: right;\">\n",
       "      <th></th>\n",
       "      <th>OBJECTID</th>\n",
       "      <th>CNTY_NM</th>\n",
       "      <th>geometry</th>\n",
       "    </tr>\n",
       "  </thead>\n",
       "  <tbody>\n",
       "    <tr>\n",
       "      <th>0</th>\n",
       "      <td>1</td>\n",
       "      <td>Uvalde</td>\n",
       "      <td>POLYGON ((-99.50031 29.08711, -99.50147 29.087...</td>\n",
       "    </tr>\n",
       "    <tr>\n",
       "      <th>1</th>\n",
       "      <td>2</td>\n",
       "      <td>Lavaca</td>\n",
       "      <td>POLYGON ((-96.86553 29.63014, -96.86540 29.630...</td>\n",
       "    </tr>\n",
       "    <tr>\n",
       "      <th>2</th>\n",
       "      <td>3</td>\n",
       "      <td>Brazoria</td>\n",
       "      <td>POLYGON ((-95.28413 29.59773, -95.28403 29.597...</td>\n",
       "    </tr>\n",
       "    <tr>\n",
       "      <th>3</th>\n",
       "      <td>4</td>\n",
       "      <td>Wharton</td>\n",
       "      <td>POLYGON ((-96.17527 29.63380, -96.17501 29.633...</td>\n",
       "    </tr>\n",
       "    <tr>\n",
       "      <th>4</th>\n",
       "      <td>5</td>\n",
       "      <td>Medina</td>\n",
       "      <td>POLYGON ((-99.41315 29.17354, -99.41315 29.180...</td>\n",
       "    </tr>\n",
       "  </tbody>\n",
       "</table>\n",
       "</div>"
      ],
      "text/plain": [
       "   OBJECTID   CNTY_NM                                           geometry\n",
       "0         1    Uvalde  POLYGON ((-99.50031 29.08711, -99.50147 29.087...\n",
       "1         2    Lavaca  POLYGON ((-96.86553 29.63014, -96.86540 29.630...\n",
       "2         3  Brazoria  POLYGON ((-95.28413 29.59773, -95.28403 29.597...\n",
       "3         4   Wharton  POLYGON ((-96.17527 29.63380, -96.17501 29.633...\n",
       "4         5    Medina  POLYGON ((-99.41315 29.17354, -99.41315 29.180..."
      ]
     },
     "execution_count": 124,
     "metadata": {},
     "output_type": "execute_result"
    }
   ],
   "source": [
    "# read in shapefile using GeoPandas\n",
    "county_gdf_raw = gpd.GeoDataFrame(gpd.read_file(r'data/origs/Texas_County_Boundaries.shp'))\n",
    "county_gdf = county_gdf_raw[['OBJECTID','CNTY_NM','geometry']]\n",
    "county_gdf.head()"
   ]
  },
  {
   "cell_type": "code",
   "execution_count": 127,
   "metadata": {},
   "outputs": [],
   "source": [
    "# merge count_df and county_gdf to add COVID19 count to geometry\n",
    "merged_df = county_gdf.merge(count_df, left_on='CNTY_NM', right_on='CNTY_NM', how='left')\n",
    "# convert \"COUNT\" field to int\n",
    "merged_df[\"COUNT\"] = merged_df.COUNT.fillna(0)\n",
    "merged_df[\"COUNT\"] = merged_df.COUNT.astype(np.int64)"
   ]
  },
  {
   "cell_type": "code",
   "execution_count": 128,
   "metadata": {},
   "outputs": [
    {
     "data": {
      "text/plain": [
       "<matplotlib.axes._subplots.AxesSubplot at 0x7fd8173a7e10>"
      ]
     },
     "execution_count": 128,
     "metadata": {},
     "output_type": "execute_result"
    },
    {
     "data": {
      "image/png": "[encoded data removed]",
      "text/plain": [
       "<Figure size 432x288 with 1 Axes>"
      ]
     },
     "metadata": {
      "needs_background": "light"
     },
     "output_type": "display_data"
    }
   ],
   "source": [
    "# make sure projection looks good\n",
    "%matplotlib inline\n",
    "merged_df.plot()"
   ]
  },
  {
   "cell_type": "code",
   "execution_count": 112,
   "metadata": {},
   "outputs": [],
   "source": [
    "# write to file\n",
    "# dosen't create a .prj file, so used the one from the original data\n",
    "merged_df.to_file('data/counties_count.shp')"
   ]
  },
  {
   "cell_type": "code",
   "execution_count": 179,
   "metadata": {},
   "outputs": [],
   "source": [
    "## values for GIS()\n",
    "f = open('agol.csv')\n",
    "username = str(f.readline())[:-1]\n",
    "password = str(f.readline())[:-1]"
   ]
  },
  {
   "cell_type": "code",
   "execution_count": 178,
   "metadata": {},
   "outputs": [],
   "source": [
    "# add to AGOL \n",
    "gis = GIS(\"https://www.arcgis.com\", username, password)\n",
    "\n",
    "tx_county_covid19_properties = {\n",
    "    'title': 'TX Counties COVID19 Count',\n",
    "    'tags': 'tx, open data',\n",
    "    'type': 'Shapefile'\n",
    "}"
   ]
  },
  {
   "cell_type": "code",
   "execution_count": 115,
   "metadata": {},
   "outputs": [],
   "source": [
    "# load the shapefile\n",
    "data_file_location = r'data/tx_counties_covid19.zip'\n",
    "tx_county_covid19_shp = gis.content.add(tx_county_covid19_properties, data=data_file_location)"
   ]
  },
  {
   "cell_type": "code",
   "execution_count": 117,
   "metadata": {},
   "outputs": [
    {
     "data": {
      "text/html": [
       "<div class=\"item_container\" style=\"height: auto; overflow: hidden; border: 1px solid #cfcfcf; border-radius: 2px; background: #f6fafa; line-height: 1.21429em; padding: 10px;\">\n",
       "                    <div class=\"item_left\" style=\"width: 210px; float: left;\">\n",
       "                       <a href='https://davidaandresen.maps.arcgis.com/home/item.html?id=bdead20ec2d1456b8c7620f58b3bad29' target='_blank'>\n",
       "                        <img src='http://static.arcgis.com/images/desktopapp.png' class=\"itemThumbnail\">\n",
       "                       </a>\n",
       "                    </div>\n",
       "\n",
       "                    <div class=\"item_right\"     style=\"float: none; width: auto; overflow: hidden;\">\n",
       "                        <a href='https://davidaandresen.maps.arcgis.com/home/item.html?id=bdead20ec2d1456b8c7620f58b3bad29' target='_blank'><b>TX Counties COVID19 Count</b>\n",
       "                        </a>\n",
       "                        <br/><img src='https://davidaandresen.maps.arcgis.com/home/js/jsapi/esri/css/images/item_type_icons/featureshosted16.png' style=\"vertical-align:middle;\">Feature Layer Collection by david.a.andresen_dev\n",
       "                        <br/>Last Modified: March 21, 2020\n",
       "                        <br/>0 comments, 0 views\n",
       "                    </div>\n",
       "                </div>\n",
       "                "
      ],
      "text/plain": [
       "<Item title:\"TX Counties COVID19 Count\" type:Feature Layer Collection owner:david.a.andresen_dev>"
      ]
     },
     "execution_count": 117,
     "metadata": {},
     "output_type": "execute_result"
    }
   ],
   "source": [
    "# call publish method, which returns another arcgis.gis.Item instance for the feature layer\n",
    "tx_county_covid19_feature_layer_item = tx_county_covid19_shp.publish()\n",
    "\n",
    "tx_county_covid19_feature_layer_item"
   ]
  },
  {
   "cell_type": "markdown",
   "metadata": {},
   "source": [
    "\n",
    "### The above workflow got the data on AGOL\n",
    "### Below, the created feature layer will be updated daily"
   ]
  },
  {
   "cell_type": "code",
   "execution_count": 140,
   "metadata": {},
   "outputs": [],
   "source": [
    "# access the layer to edit it\n",
    "published_covid19 = gis.content.search('title:TX Counties COVID19 Count')\n",
    "published_covid19_lyr = published_covid19[0].layers\n"
   ]
  },
  {
   "cell_type": "code",
   "execution_count": 143,
   "metadata": {},
   "outputs": [],
   "source": [
    "# create a featureset to access the data\n",
    "featureSet_published_covid19_lyr = published_covid19_lyr[0].query()"
   ]
  },
  {
   "cell_type": "code",
   "execution_count": 145,
   "metadata": {},
   "outputs": [
    {
     "data": {
      "text/plain": [
       "Index(['CNTY_NM', 'COUNT_', 'FID', 'OBJECTID', 'SHAPE', 'Shape__Area',\n",
       "       'Shape__Length'],\n",
       "      dtype='object')"
      ]
     },
     "execution_count": 145,
     "metadata": {},
     "output_type": "execute_result"
    }
   ],
   "source": [
    "# create a pandas df to make updating eaiser\n",
    "fset_df = featureSet_published_covid19_lyr.sdf\n",
    "fset_df.columns"
   ]
  },
  {
   "cell_type": "code",
   "execution_count": 180,
   "metadata": {},
   "outputs": [
    {
     "data": {
      "text/plain": [
       "'Query'"
      ]
     },
     "execution_count": 180,
     "metadata": {},
     "output_type": "execute_result"
    }
   ],
   "source": [
    "# next will need to edit the above df and then publish again\n",
    "# \n",
    "published_covid19_lyr[0].properties.capabilities"
   ]
  }
 ],
 "metadata": {
  "kernelspec": {
   "display_name": "Python 3",
   "language": "python",
   "name": "python3"
  },
  "language_info": {
   "codemirror_mode": {
    "name": "ipython",
    "version": 3
   },
   "file_extension": ".py",
   "mimetype": "text/x-python",
   "name": "python",
   "nbconvert_exporter": "python",
   "pygments_lexer": "ipython3",
   "version": "3.6.8"
  }
 },
 "nbformat": 4,
 "nbformat_minor": 2
}
