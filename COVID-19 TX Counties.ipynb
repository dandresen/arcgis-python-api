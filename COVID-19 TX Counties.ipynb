{
 "cells": [
  {
   "cell_type": "markdown",
   "metadata": {},
   "source": [
    "## Workflow to update a TX county data layer with the latest COVID-19 cases\n",
    "Still a work in progress..."
   ]
  },
  {
   "cell_type": "code",
   "execution_count": null,
   "metadata": {},
   "outputs": [],
   "source": [
    "from urllib.request import urlopen\n",
    "from bs4 import BeautifulSoup\n",
    "import ssl\n",
    "import geopandas as gpd\n",
    "import pandas as pd\n",
    "import numpy as np\n",
    "from arcgis.gis import GIS\n",
    "from arcgis.features import FeatureLayer"
   ]
  },
  {
   "cell_type": "code",
   "execution_count": null,
   "metadata": {},
   "outputs": [],
   "source": [
    "# scrape Texas Department of State Health Services\n",
    "ssl._create_default_https_context = ssl._create_unverified_context # avoid cert error \n",
    "url = 'https://www.dshs.state.tx.us/news/updates.shtm#coronavirus'\n",
    "html = urlopen(url)\n",
    "soup = BeautifulSoup(html, 'lxml')"
   ]
  },
  {
   "cell_type": "code",
   "execution_count": null,
   "metadata": {},
   "outputs": [],
   "source": [
    "# get count of latest COVID-19\n",
    "list_for_df = []\n",
    "for tr in soup.find_all('tr'):\n",
    "    td = tr.find_all('td')\n",
    "    row = [tr.text for tr in td]\n",
    "    list_for_df.append(row)\n",
    "\n",
    "# create df with counts, use filter() to remove empty list\n",
    "count_df = pd.DataFrame(list(filter(None,list_for_df)), columns=['CNTY_NM', 'COUNT'])"
   ]
  },
  {
   "cell_type": "code",
   "execution_count": null,
   "metadata": {},
   "outputs": [],
   "source": [
    "# read in shapefile using GeoPandas\n",
    "county_gdf_raw = gpd.GeoDataFrame(gpd.read_file(r'data/origs/Texas_County_Boundaries.shp'))\n",
    "county_gdf = county_gdf_raw[['OBJECTID','CNTY_NM','geometry']]\n",
    "county_gdf.head()"
   ]
  },
  {
   "cell_type": "code",
   "execution_count": null,
   "metadata": {},
   "outputs": [],
   "source": [
    "# merge count_df and county_gdf to add COVID19 count to geometry\n",
    "merged_df = county_gdf.merge(count_df, left_on='CNTY_NM', right_on='CNTY_NM', how='left')\n",
    "# convert \"COUNT\" field to int\n",
    "merged_df[\"COUNT\"] = merged_df.COUNT.fillna(0)\n",
    "merged_df[\"COUNT\"] = merged_df.COUNT.astype(np.int64)"
   ]
  },
  {
   "cell_type": "code",
   "execution_count": null,
   "metadata": {},
   "outputs": [],
   "source": [
    "# make sure projection looks good\n",
    "%matplotlib inline\n",
    "merged_df.plot()"
   ]
  },
  {
   "cell_type": "code",
   "execution_count": null,
   "metadata": {},
   "outputs": [],
   "source": [
    "# write to file\n",
    "# dosen't create a .prj file, so used the one from the original data\n",
    "merged_df.to_file('data/counties_count.shp')"
   ]
  },
  {
   "cell_type": "code",
   "execution_count": null,
   "metadata": {},
   "outputs": [],
   "source": [
    "## values for GIS()\n",
    "f = open('agol.csv')\n",
    "username = str(f.readline())[:-1]\n",
    "password = str(f.readline())[:-1]"
   ]
  },
  {
   "cell_type": "code",
   "execution_count": null,
   "metadata": {},
   "outputs": [],
   "source": [
    "# add to AGOL \n",
    "gis = GIS(\"https://www.arcgis.com\", username, password)\n",
    "\n",
    "tx_county_covid19_properties = {\n",
    "    'title': 'TX Counties COVID19 Count',\n",
    "    'tags': 'tx, open data',\n",
    "    'type': 'Shapefile'\n",
    "}"
   ]
  },
  {
   "cell_type": "code",
   "execution_count": null,
   "metadata": {},
   "outputs": [],
   "source": [
    "# load the shapefile\n",
    "data_file_location = r'data/tx_counties_covid19.zip'\n",
    "tx_county_covid19_shp = gis.content.add(tx_county_covid19_properties, data=data_file_location)"
   ]
  },
  {
   "cell_type": "code",
   "execution_count": null,
   "metadata": {},
   "outputs": [],
   "source": [
    "# call publish method, which returns another arcgis.gis.Item instance for the feature layer\n",
    "tx_county_covid19_feature_layer_item = tx_county_covid19_shp.publish()\n",
    "\n",
    "tx_county_covid19_feature_layer_item"
   ]
  },
  {
   "cell_type": "markdown",
   "metadata": {},
   "source": [
    "\n",
    "### The above workflow got the data on AGOL\n",
    "### Below, the created feature layer will be updated daily"
   ]
  },
  {
   "cell_type": "code",
   "execution_count": null,
   "metadata": {},
   "outputs": [],
   "source": [
    "# access the layer to edit it\n",
    "published_covid19 = gis.content.search('title:TX Counties COVID19 Count')\n",
    "published_covid19_lyr = published_covid19[0].layers\n"
   ]
  },
  {
   "cell_type": "code",
   "execution_count": null,
   "metadata": {},
   "outputs": [],
   "source": [
    "# create a featureset to access the data\n",
    "featureSet_published_covid19_lyr = published_covid19_lyr[0].query()"
   ]
  },
  {
   "cell_type": "code",
   "execution_count": null,
   "metadata": {},
   "outputs": [],
   "source": [
    "# create a pandas df to make updating eaiser\n",
    "fset_df = featureSet_published_covid19_lyr.sdf\n",
    "fset_df.columns"
   ]
  },
  {
   "cell_type": "code",
   "execution_count": null,
   "metadata": {},
   "outputs": [],
   "source": [
    "# next will need to edit the above df and then publish again\n",
    "# \n",
    "published_covid19_lyr[0].properties.capabilities"
   ]
  }
 ],
 "metadata": {
  "kernelspec": {
   "display_name": "Python 3",
   "language": "python",
   "name": "python3"
  },
  "language_info": {
   "codemirror_mode": {
    "name": "ipython",
    "version": 3
   },
   "file_extension": ".py",
   "mimetype": "text/x-python",
   "name": "python",
   "nbconvert_exporter": "python",
   "pygments_lexer": "ipython3",
   "version": "3.6.8"
  }
 },
 "nbformat": 4,
 "nbformat_minor": 2
}
