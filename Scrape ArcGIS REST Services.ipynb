{
 "cells": [
  {
   "cell_type": "markdown",
   "metadata": {},
   "source": [
    "### Question: What types of data are in a given ArcGIS REST service?\n",
    "\n",
    "##### I wanted a way to summarize a large ArcGIS REST service. This example uses the Texas Department of Transportation, which has over 500 Feature Services. \n",
    "\n",
    "*still a work in progress"
   ]
  },
  {
   "cell_type": "code",
   "execution_count": 2,
   "metadata": {},
   "outputs": [],
   "source": [
    "from urllib.request import urlopen\n",
    "from bs4 import BeautifulSoup\n",
    "import pandas as pd\n",
    "from arcgis.gis import GIS\n",
    "from arcgis.features import FeatureLayer, summarize_data"
   ]
  },
  {
   "cell_type": "code",
   "execution_count": 4,
   "metadata": {},
   "outputs": [],
   "source": [
    "# basics for bs4\n",
    "url = 'https://services.arcgis.com/KTcxiTD9dsQw4r7Z/arcgis/rest/services/' # TxDOT \n",
    "html = urlopen(url)\n",
    "soup = BeautifulSoup(html, 'lxml')"
   ]
  },
  {
   "cell_type": "code",
   "execution_count": 5,
   "metadata": {},
   "outputs": [],
   "source": [
    "# some bs4 stuff\n",
    "# find the anchor tag, grab the url and title, then zip the list together \n",
    "all_links = soup.find_all('a')\n",
    "all_href = [link.get('href') for link in all_links]\n",
    "all_title = [link.contents[0] for link in all_links]\n",
    "href_and_title_list = list(zip(all_href, all_title))"
   ]
  },
  {
   "cell_type": "code",
   "execution_count": 6,
   "metadata": {},
   "outputs": [
    {
     "data": {
      "text/plain": [
       "539"
      ]
     },
     "execution_count": 6,
     "metadata": {},
     "output_type": "execute_result"
    }
   ],
   "source": [
    "# remove non-feature services, prefix the URL, and read into a df\n",
    "df = pd.DataFrame(href_and_title_list[4:], columns=['URL', 'service_title'])\n",
    "df['URL'] = df['URL'].apply(lambda x: f\"https://services.arcgis.com/{x}\")\n",
    "\n",
    "# need to remove bad urls, then get a list of urls\n",
    "df_clean =  df[~df.URL.str.contains('%', na = False)]\n",
    "url_list = df_clean['URL'].tolist()\n",
    "len(url_list)"
   ]
  },
  {
   "cell_type": "code",
   "execution_count": 7,
   "metadata": {},
   "outputs": [
    {
     "data": {
      "text/plain": [
       "539"
      ]
     },
     "execution_count": 7,
     "metadata": {},
     "output_type": "execute_result"
    }
   ],
   "source": [
    "# get the service service ItemId for each feature service\n",
    "# with a lot of services, this can take a while...\n",
    "\n",
    "# start with converting each url into a FeatureLayer\n",
    "image_lyr_list = [FeatureLayer(url) for url in url_list]\n",
    "\n",
    "# get the itemID \n",
    "image_ids_list = [feature_layer.properties.serviceItemId for feature_layer in image_lyr_list]\n",
    "len(image_ids_list)\n",
    "\n",
    "\n"
   ]
  },
  {
   "cell_type": "code",
   "execution_count": 130,
   "metadata": {},
   "outputs": [
    {
     "name": "stderr",
     "output_type": "stream",
     "text": [
      "/home/andresen/miniconda3/envs/python3.6/lib/python3.6/site-packages/ipykernel_launcher.py:1: SettingWithCopyWarning: \n",
      "A value is trying to be set on a copy of a slice from a DataFrame.\n",
      "Try using .loc[row_indexer,col_indexer] = value instead\n",
      "\n",
      "See the caveats in the documentation: http://pandas.pydata.org/pandas-docs/stable/indexing.html#indexing-view-versus-copy\n",
      "  \"\"\"Entry point for launching an IPython kernel.\n"
     ]
    },
    {
     "data": {
      "text/html": [
       "<div>\n",
       "<style scoped>\n",
       "    .dataframe tbody tr th:only-of-type {\n",
       "        vertical-align: middle;\n",
       "    }\n",
       "\n",
       "    .dataframe tbody tr th {\n",
       "        vertical-align: top;\n",
       "    }\n",
       "\n",
       "    .dataframe thead th {\n",
       "        text-align: right;\n",
       "    }\n",
       "</style>\n",
       "<table border=\"1\" class=\"dataframe\">\n",
       "  <thead>\n",
       "    <tr style=\"text-align: right;\">\n",
       "      <th></th>\n",
       "      <th>URL</th>\n",
       "      <th>service_title</th>\n",
       "      <th>itemID</th>\n",
       "    </tr>\n",
       "  </thead>\n",
       "  <tbody>\n",
       "    <tr>\n",
       "      <th>0</th>\n",
       "      <td>https://services.arcgis.com//KTcxiTD9dsQw4r7Z/...</td>\n",
       "      <td>2008_SealCoat</td>\n",
       "      <td>793e9dd1b22c4d7a94ff512e2ac4e39d</td>\n",
       "    </tr>\n",
       "    <tr>\n",
       "      <th>1</th>\n",
       "      <td>https://services.arcgis.com//KTcxiTD9dsQw4r7Z/...</td>\n",
       "      <td>2009SealCoat</td>\n",
       "      <td>7079ddda209c45e5b9fcf4baabf2929f</td>\n",
       "    </tr>\n",
       "    <tr>\n",
       "      <th>2</th>\n",
       "      <td>https://services.arcgis.com//KTcxiTD9dsQw4r7Z/...</td>\n",
       "      <td>2010MS4_UA</td>\n",
       "      <td>d01314cf386b4833affae229883ac8a5</td>\n",
       "    </tr>\n",
       "    <tr>\n",
       "      <th>3</th>\n",
       "      <td>https://services.arcgis.com//KTcxiTD9dsQw4r7Z/...</td>\n",
       "      <td>2010SealCoat</td>\n",
       "      <td>cc998298c7ab4b5d9ecf5b3bb5b6e4d5</td>\n",
       "    </tr>\n",
       "    <tr>\n",
       "      <th>4</th>\n",
       "      <td>https://services.arcgis.com//KTcxiTD9dsQw4r7Z/...</td>\n",
       "      <td>2012SealCoat</td>\n",
       "      <td>28fc8f08cc9b4f9ca56616b9e0182b71</td>\n",
       "    </tr>\n",
       "  </tbody>\n",
       "</table>\n",
       "</div>"
      ],
      "text/plain": [
       "                                                 URL  service_title  \\\n",
       "0  https://services.arcgis.com//KTcxiTD9dsQw4r7Z/...  2008_SealCoat   \n",
       "1  https://services.arcgis.com//KTcxiTD9dsQw4r7Z/...   2009SealCoat   \n",
       "2  https://services.arcgis.com//KTcxiTD9dsQw4r7Z/...     2010MS4_UA   \n",
       "3  https://services.arcgis.com//KTcxiTD9dsQw4r7Z/...   2010SealCoat   \n",
       "4  https://services.arcgis.com//KTcxiTD9dsQw4r7Z/...   2012SealCoat   \n",
       "\n",
       "                             itemID  \n",
       "0  793e9dd1b22c4d7a94ff512e2ac4e39d  \n",
       "1  7079ddda209c45e5b9fcf4baabf2929f  \n",
       "2  d01314cf386b4833affae229883ac8a5  \n",
       "3  cc998298c7ab4b5d9ecf5b3bb5b6e4d5  \n",
       "4  28fc8f08cc9b4f9ca56616b9e0182b71  "
      ]
     },
     "execution_count": 130,
     "metadata": {},
     "output_type": "execute_result"
    }
   ],
   "source": [
    "# add the itemID back into the clean df\n",
    "df_clean['itemID'] = image_ids_list\n",
    "df_clean.head()"
   ]
  },
  {
   "cell_type": "code",
   "execution_count": 1,
   "metadata": {},
   "outputs": [
    {
     "ename": "NameError",
     "evalue": "name 'GIS' is not defined",
     "output_type": "error",
     "traceback": [
      "\u001b[0;31m---------------------------------------------------------------------------\u001b[0m",
      "\u001b[0;31mNameError\u001b[0m                                 Traceback (most recent call last)",
      "\u001b[0;32m<ipython-input-1-54ad17d986f5>\u001b[0m in \u001b[0;36m<module>\u001b[0;34m\u001b[0m\n\u001b[1;32m      2\u001b[0m \u001b[0;34m\u001b[0m\u001b[0m\n\u001b[1;32m      3\u001b[0m \u001b[0mitem_id\u001b[0m \u001b[0;34m=\u001b[0m \u001b[0;34m'd01314cf386b4833affae229883ac8a5'\u001b[0m\u001b[0;34m\u001b[0m\u001b[0;34m\u001b[0m\u001b[0m\n\u001b[0;32m----> 4\u001b[0;31m \u001b[0mgis\u001b[0m \u001b[0;34m=\u001b[0m \u001b[0mGIS\u001b[0m\u001b[0;34m(\u001b[0m\u001b[0;34m)\u001b[0m\u001b[0;34m\u001b[0m\u001b[0;34m\u001b[0m\u001b[0m\n\u001b[0m\u001b[1;32m      5\u001b[0m \u001b[0mgis_item\u001b[0m \u001b[0;34m=\u001b[0m \u001b[0mgis\u001b[0m\u001b[0;34m.\u001b[0m\u001b[0mcontent\u001b[0m\u001b[0;34m.\u001b[0m\u001b[0mget\u001b[0m\u001b[0;34m(\u001b[0m\u001b[0mitem_id\u001b[0m\u001b[0;34m)\u001b[0m\u001b[0;34m\u001b[0m\u001b[0;34m\u001b[0m\u001b[0m\n\u001b[1;32m      6\u001b[0m \u001b[0mgis_item\u001b[0m\u001b[0;34m\u001b[0m\u001b[0;34m\u001b[0m\u001b[0m\n",
      "\u001b[0;31mNameError\u001b[0m: name 'GIS' is not defined"
     ]
    }
   ],
   "source": [
    "# next, work on a workflow to access the data\n",
    "\n",
    "item_id = 'd01314cf386b4833affae229883ac8a5'\n",
    "gis = GIS()\n",
    "gis_item = gis.content.get(item_id)\n",
    "gis_item"
   ]
  }
 ],
 "metadata": {
  "kernelspec": {
   "display_name": "Python 3",
   "language": "python",
   "name": "python3"
  },
  "language_info": {
   "codemirror_mode": {
    "name": "ipython",
    "version": 3
   },
   "file_extension": ".py",
   "mimetype": "text/x-python",
   "name": "python",
   "nbconvert_exporter": "python",
   "pygments_lexer": "ipython3",
   "version": "3.6.8"
  }
 },
 "nbformat": 4,
 "nbformat_minor": 2
}
